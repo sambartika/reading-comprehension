{
 "cells": [
  {
   "cell_type": "code",
   "execution_count": 5,
   "metadata": {},
   "outputs": [],
   "source": [
    "import json\n",
    "import numpy as np\n",
    "from matplotlib import pyplot as plt\n",
    "import pandas as pd\n",
    "import sys\n",
    "sys.path.append('code/preprocessing/')\n",
    "from squad_preprocess import get_char_word_loc_mapping"
   ]
  },
  {
   "cell_type": "code",
   "execution_count": 7,
   "metadata": {},
   "outputs": [],
   "source": [
    "dataFile = \"./data/train-v1.1.json\"\n",
    "with open(dataFile) as file:\n",
    "    trainingData = json.load(file)"
   ]
  },
  {
   "cell_type": "code",
   "execution_count": 8,
   "metadata": {},
   "outputs": [
    {
     "data": {
      "text/plain": [
       "(array([1.253e+03, 2.753e+03, 6.732e+03, 4.147e+03, 2.051e+03, 1.013e+03,\n",
       "        5.280e+02, 2.050e+02, 1.120e+02, 5.600e+01, 1.800e+01, 1.200e+01,\n",
       "        7.000e+00, 3.000e+00, 2.000e+00, 1.000e+00, 1.000e+00, 1.000e+00,\n",
       "        0.000e+00, 1.000e+00]),\n",
       " array([ 20.  ,  51.65,  83.3 , 114.95, 146.6 , 178.25, 209.9 , 241.55,\n",
       "        273.2 , 304.85, 336.5 , 368.15, 399.8 , 431.45, 463.1 , 494.75,\n",
       "        526.4 , 558.05, 589.7 , 621.35, 653.  ]),\n",
       " <a list of 20 Patch objects>)"
      ]
     },
     "execution_count": 8,
     "metadata": {},
     "output_type": "execute_result"
    },
    {
     "data": {
      "image/png": "[encoded data removed]",
      "text/plain": [
       "<matplotlib.figure.Figure at 0x7fc28393d780>"
      ]
     },
     "metadata": {},
     "output_type": "display_data"
    }
   ],
   "source": [
    "# Plot the context lengths as a histogram\n",
    "cntContextLen = []\n",
    "for topic in trainingData['data']:\n",
    "    for paragraph in topic['paragraphs']:\n",
    "        context = paragraph['context'].split()\n",
    "        cntContextLen.append(len(context))\n",
    "plt.hist(cntContextLen, bins=20)"
   ]
  },
  {
   "cell_type": "code",
   "execution_count": 20,
   "metadata": {},
   "outputs": [
    {
     "data": {
      "text/plain": [
       "'Saint Bernadette Soubirous'"
      ]
     },
     "execution_count": 20,
     "metadata": {},
     "output_type": "execute_result"
    },
    {
     "data": {
      "image/png": "[encoded data removed]",
      "text/plain": [
       "<matplotlib.figure.Figure at 0x7fc2864615c0>"
      ]
     },
     "metadata": {},
     "output_type": "display_data"
    }
   ],
   "source": [
    "# Plot the end points of the answer as a histogram\n",
    "ansEndPt = []\n",
    "for topic in trainingData['data']:\n",
    "    for paragraph in topic['paragraphs']:\n",
    "        context = paragraph['context']\n",
    "        for qaPair in paragraph['qas']:\n",
    "            for ans in qaPair['answers']:\n",
    "                char2tokenId = get_char_word_loc_mapping(context, context.split())\n",
    "                try :\n",
    "                    tokenNum = char2tokenId[ans['answer_start']][1] + len(ans['text'].split())\n",
    "                except :\n",
    "                    pass\n",
    "                ansEndPt.append(tokenNum)\n",
    "plt.hist(ansEndPt, bins=20)\n",
    "trainingData['data'][0]['paragraphs'][0]['qas'][0]['answers'][0]['text']"
   ]
  },
  {
   "cell_type": "markdown",
   "metadata": {},
   "source": [
    "Appendix E : Roughwork"
   ]
  },
  {
   "cell_type": "code",
   "execution_count": 11,
   "metadata": {},
   "outputs": [
    {
     "data": {
      "text/plain": [
       "dict"
      ]
     },
     "execution_count": 11,
     "metadata": {},
     "output_type": "execute_result"
    }
   ],
   "source": [
    "type(trainingData['data'][0])"
   ]
  },
  {
   "cell_type": "code",
   "execution_count": 14,
   "metadata": {},
   "outputs": [
    {
     "data": {
      "text/plain": [
       "'University_of_Notre_Dame'"
      ]
     },
     "execution_count": 14,
     "metadata": {},
     "output_type": "execute_result"
    }
   ],
   "source": [
    "trainingData['data'][0]['title']"
   ]
  },
  {
   "cell_type": "code",
   "execution_count": 15,
   "metadata": {},
   "outputs": [
    {
     "data": {
      "text/plain": [
       "list"
      ]
     },
     "execution_count": 15,
     "metadata": {},
     "output_type": "execute_result"
    }
   ],
   "source": [
    "type(trainingData['data'][0]['paragraphs'])"
   ]
  },
  {
   "cell_type": "code",
   "execution_count": 18,
   "metadata": {},
   "outputs": [
    {
     "data": {
      "text/plain": [
       "{'context': 'Architecturally, the school has a Catholic character. Atop the Main Building\\'s gold dome is a golden statue of the Virgin Mary. Immediately in front of the Main Building and facing it, is a copper statue of Christ with arms upraised with the legend \"Venite Ad Me Omnes\". Next to the Main Building is the Basilica of the Sacred Heart. Immediately behind the basilica is the Grotto, a Marian place of prayer and reflection. It is a replica of the grotto at Lourdes, France where the Virgin Mary reputedly appeared to Saint Bernadette Soubirous in 1858. At the end of the main drive (and in a direct line that connects through 3 statues and the Gold Dome), is a simple, modern stone statue of Mary.',\n",
       " 'qas': [{'answers': [{'answer_start': 515,\n",
       "     'text': 'Saint Bernadette Soubirous'}],\n",
       "   'id': '5733be284776f41900661182',\n",
       "   'question': 'To whom did the Virgin Mary allegedly appear in 1858 in Lourdes France?'},\n",
       "  {'answers': [{'answer_start': 188, 'text': 'a copper statue of Christ'}],\n",
       "   'id': '5733be284776f4190066117f',\n",
       "   'question': 'What is in front of the Notre Dame Main Building?'},\n",
       "  {'answers': [{'answer_start': 279, 'text': 'the Main Building'}],\n",
       "   'id': '5733be284776f41900661180',\n",
       "   'question': 'The Basilica of the Sacred heart at Notre Dame is beside to which structure?'},\n",
       "  {'answers': [{'answer_start': 381,\n",
       "     'text': 'a Marian place of prayer and reflection'}],\n",
       "   'id': '5733be284776f41900661181',\n",
       "   'question': 'What is the Grotto at Notre Dame?'},\n",
       "  {'answers': [{'answer_start': 92,\n",
       "     'text': 'a golden statue of the Virgin Mary'}],\n",
       "   'id': '5733be284776f4190066117e',\n",
       "   'question': 'What sits on top of the Main Building at Notre Dame?'}]}"
      ]
     },
     "execution_count": 18,
     "metadata": {},
     "output_type": "execute_result"
    }
   ],
   "source": [
    "trainingData['data'][0]['paragraphs'][0]"
   ]
  },
  {
   "cell_type": "code",
   "execution_count": 22,
   "metadata": {},
   "outputs": [
    {
     "data": {
      "text/plain": [
       "{'answers': [{'answer_start': 515, 'text': 'Saint Bernadette Soubirous'}],\n",
       " 'id': '5733be284776f41900661182',\n",
       " 'question': 'To whom did the Virgin Mary allegedly appear in 1858 in Lourdes France?'}"
      ]
     },
     "execution_count": 22,
     "metadata": {},
     "output_type": "execute_result"
    }
   ],
   "source": [
    "trainingData['data'][0]['paragraphs'][0]['qas'][0]"
   ]
  },
  {
   "cell_type": "code",
   "execution_count": 29,
   "metadata": {},
   "outputs": [
    {
     "data": {
      "text/plain": [
       "'To whom did the Virgin Mary allegedly appear in 1858 in Lourdes France?'"
      ]
     },
     "execution_count": 29,
     "metadata": {},
     "output_type": "execute_result"
    },
    {
     "data": {
      "text/plain": [
       "'answer_start: 515'"
      ]
     },
     "execution_count": 29,
     "metadata": {},
     "output_type": "execute_result"
    },
    {
     "data": {
      "text/plain": [
       "'Saint Bernadette Soubirous'"
      ]
     },
     "execution_count": 29,
     "metadata": {},
     "output_type": "execute_result"
    }
   ],
   "source": [
    "trainingData['data'][0]['paragraphs'][0]['qas'][0]['question']\n",
    "'answer_start: {}'.format(trainingData['data'][0]['paragraphs'][0]['qas'][0]['answers'][0]['answer_start'])\n",
    "trainingData['data'][0]['paragraphs'][0]['qas'][0]['answers'][0]['text']"
   ]
  },
  {
   "cell_type": "code",
   "execution_count": 34,
   "metadata": {},
   "outputs": [
    {
     "data": {
      "text/plain": [
       "'Saint Bernadette Soubirous'"
      ]
     },
     "execution_count": 34,
     "metadata": {},
     "output_type": "execute_result"
    }
   ],
   "source": [
    "context = trainingData['data'][0]['paragraphs'][0]['context']\n",
    "context[515:541]"
   ]
  }
 ],
 "metadata": {
  "kernelspec": {
   "display_name": "Python 3",
   "language": "python",
   "name": "python3"
  },
  "language_info": {
   "codemirror_mode": {
    "name": "ipython",
    "version": 3
   },
   "file_extension": ".py",
   "mimetype": "text/x-python",
   "name": "python",
   "nbconvert_exporter": "python",
   "pygments_lexer": "ipython3",
   "version": "3.5.2"
  }
 },
 "nbformat": 4,
 "nbformat_minor": 2
}
